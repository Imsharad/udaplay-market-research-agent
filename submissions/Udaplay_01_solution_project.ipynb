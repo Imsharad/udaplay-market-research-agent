{
 "cells": [
  {
   "cell_type": "raw",
   "metadata": {
    "vscode": {
     "languageId": "raw"
    }
   },
   "source": [
    "# UdaPlay Part 1: Offline RAG (Retrieval-Augmented Generation)\n",
    "\n",
    "In this notebook, we'll build a Vector Database using ChromaDB to store and retrieve video game information efficiently.\n",
    "\n",
    "## Objectives:\n",
    "1. Set up ChromaDB as a persistent client with Vocareum support\n",
    "2. Create a collection with appropriate embedding functions\n",
    "3. Process and index game data from JSON files\n",
    "4. Test the vector database with semantic search queries\n"
   ]
  },
  {
   "cell_type": "code",
   "execution_count": null,
   "metadata": {},
   "outputs": [],
   "source": "# Install required dependencies\n%pip install -q chromadb openai python-dotenv pydantic pdfplumber\n\n# Setup and imports\nimport os\nimport sys\nimport json\nfrom pathlib import Path\nfrom typing import Dict, List\nfrom dotenv import load_dotenv\n\n# Handle Google Colab vs local environment\nif 'google.colab' in str(get_ipython()):\n    print(\"Running in Google Colab - cloning repository...\")\n    !git clone https://github.com/Imsharad/udaplay-market-research-agent.git\n    os.chdir('/content/udaplay-market-research-agent/projects/building-agents/src/project/starter')\n    print(\"Changed to project directory\")\nelse:\n    print(\"Running locally - navigating to project directory...\")\n    os.chdir('../projects/building-agents/src/project/starter')\n    print(\"Changed to project directory\")\n\n# Now simple imports work from the correct directory\nfrom lib.documents import Document, Corpus\nfrom lib.vector_db import VectorStore\n\n# Load environment variables\nload_dotenv()\n\n# Verify API keys are loaded\nOPENAI_API_KEY = os.getenv('OPENAI_API_KEY')\nCHROMA_OPENAI_API_KEY = os.getenv('CHROMA_OPENAI_API_KEY')\n\nassert OPENAI_API_KEY, \"OPENAI_API_KEY not found in environment\"\nassert CHROMA_OPENAI_API_KEY, \"CHROMA_OPENAI_API_KEY not found in environment\"\n\n# Configure for Vocareum if using voc- keys\nif OPENAI_API_KEY.startswith('voc-'):\n    print(\"Detected Vocareum OpenAI API key - configuring for Vocareum endpoint\")\n    os.environ['OPENAI_API_BASE'] = 'https://openai.vocareum.com/v1'\n    \nif CHROMA_OPENAI_API_KEY.startswith('voc-'):\n    print(\"Detected Vocareum ChromaDB key - configuring for Vocareum endpoint\")\n\nprint(\"Environment setup complete!\")\nprint(f\"OpenAI API key: {OPENAI_API_KEY[:10]}...{OPENAI_API_KEY[-4:]}\")\nprint(f\"ChromaDB API key: {CHROMA_OPENAI_API_KEY[:10]}...{CHROMA_OPENAI_API_KEY[-4:]}\")"
  },
  {
   "cell_type": "raw",
   "metadata": {
    "vscode": {
     "languageId": "raw"
    }
   },
   "source": [
    "## Step 1: Load and Explore Game Data\n",
    "\n",
    "First, let's load the game data from the JSON files and explore their structure.\n"
   ]
  },
  {
   "cell_type": "code",
   "execution_count": null,
   "metadata": {},
   "outputs": [],
   "source": "# Load game data\ndef load_games() -> List[Dict]:\n    \"\"\"Load all JSON game files into memory.\"\"\"\n    games_dir = Path(\"games\")  # Now relative to current directory\n    games: List[Dict] = []\n    for json_file in sorted(games_dir.glob(\"*.json\")):\n        with open(json_file, \"r\", encoding=\"utf-8\") as fp:\n            games.append(json.load(fp))\n    print(f\"Loaded {len(games)} game files from {games_dir}\")\n    if games:\n        print(\"Example game keys:\", list(games[0].keys()))\n    return games\n\n# Load all game data\ngames_data = load_games()\n\n# Let's examine the structure of the first game\nprint(\"\\nExample game structure:\")\nprint(json.dumps(games_data[0], indent=2))"
  },
  {
   "cell_type": "raw",
   "metadata": {
    "vscode": {
     "languageId": "raw"
    }
   },
   "source": [
    "## Step 2: Process Game Data into Documents\n",
    "\n",
    "Now we'll convert the game data into Document objects suitable for our vector database.\n"
   ]
  },
  {
   "cell_type": "code",
   "execution_count": 3,
   "metadata": {},
   "outputs": [
    {
     "name": "stdout",
     "output_type": "stream",
     "text": [
      "Created 15 Document objects (all IDs unique ✔️)\n",
      "\n",
      "Example document:\n",
      "ID: game_000_gran_turismo\n",
      "Content preview: Game: Gran Turismo\n",
      "Platform: PlayStation 1\n",
      "Genre: Racing\n",
      "Publisher: Sony Computer Entertainment\n",
      "Release Year: 1997\n",
      "Description: A realistic racing simulator featuring a wide array of cars and tracks, ...\n",
      "Metadata: {'name': 'Gran Turismo', 'platform': 'PlayStation 1', 'genre': 'Racing', 'publisher': 'Sony Computer Entertainment', 'release_year': '1997', 'description': 'A realistic racing simulator featuring a wide array of cars and tracks, setting a new standard for the genre.'}\n"
     ]
    }
   ],
   "source": [
    "def create_game_document(game_data: Dict, index: int) -> Document:\n",
    "    \"\"\"Convert a single game dictionary into a Document.\"\"\"\n",
    "    name = game_data.get(\"Name\", \"Unknown\")\n",
    "    platform = game_data.get(\"Platform\", \"Unknown\")\n",
    "    genre = game_data.get(\"Genre\", \"Unknown\")\n",
    "    publisher = game_data.get(\"Publisher\", \"Unknown\")\n",
    "    release_year = game_data.get(\"YearOfRelease\", \"Unknown\")\n",
    "    description = game_data.get(\"Description\", \"No description available\")\n",
    "\n",
    "    content = \"\\n\".join(\n",
    "        [\n",
    "            f\"Game: {name}\",\n",
    "            f\"Platform: {platform}\",\n",
    "            f\"Genre: {genre}\",\n",
    "            f\"Publisher: {publisher}\",\n",
    "            f\"Release Year: {release_year}\",\n",
    "            f\"Description: {description}\",\n",
    "        ]\n",
    "    )\n",
    "\n",
    "    metadata = {\n",
    "        \"name\": name,\n",
    "        \"platform\": platform,\n",
    "        \"genre\": genre,\n",
    "        \"publisher\": publisher,\n",
    "        \"release_year\": str(release_year),\n",
    "        \"description\": description,\n",
    "    }\n",
    "\n",
    "    clean_name = (\n",
    "        name.lower()\n",
    "        .replace(\" \", \"_\")\n",
    "        .replace(\":\", \"\")\n",
    "        .replace(\"-\", \"_\")\n",
    "        .replace(\"'\", \"\")\n",
    "    )\n",
    "    doc_id = f\"game_{index:03d}_{clean_name}\"\n",
    "\n",
    "    return Document(id=doc_id, content=content, metadata=metadata)\n",
    "\n",
    "def build_corpus(games: List[Dict]) -> Corpus:\n",
    "    docs = [create_game_document(game, i) for i, game in enumerate(games)]\n",
    "    corpus = Corpus(docs)\n",
    "    print(f\"Created {len(corpus)} Document objects (all IDs unique ✔️)\")\n",
    "    return corpus\n",
    "\n",
    "# Convert all games to documents\n",
    "game_corpus = build_corpus(games_data)\n",
    "\n",
    "print(f\"\\nExample document:\")\n",
    "print(f\"ID: {game_corpus[0].id}\")\n",
    "print(f\"Content preview: {game_corpus[0].content[:200]}...\")\n",
    "print(f\"Metadata: {game_corpus[0].metadata}\")\n"
   ]
  },
  {
   "cell_type": "raw",
   "metadata": {
    "vscode": {
     "languageId": "raw"
    }
   },
   "source": [
    "## Step 3: Set up ChromaDB Vector Store\n",
    "\n",
    "Now we'll create a persistent ChromaDB collection with OpenAI embeddings to store our game data.\n"
   ]
  },
  {
   "cell_type": "code",
   "execution_count": 4,
   "metadata": {},
   "outputs": [
    {
     "name": "stderr",
     "output_type": "stream",
     "text": [
      "Failed to send telemetry event ClientStartEvent: capture() takes 1 positional argument but 3 were given\n"
     ]
    },
    {
     "name": "stdout",
     "output_type": "stream",
     "text": [
      "Vector Store Manager initialized successfully!\n",
      "Ready to create persistent vector store with OpenAI embeddings\n"
     ]
    }
   ],
   "source": [
    "# Custom VectorStoreManager for Vocareum compatibility\n",
    "import chromadb\n",
    "from chromadb.utils import embedding_functions\n",
    "\n",
    "class VocareumVectorStoreManager:\n",
    "    \"\"\"Thin wrapper around ChromaDB to support Vocareum endpoints.\"\"\"\n",
    "\n",
    "    def __init__(self, openai_api_key: str):\n",
    "        # Use persistent client so data survives between script runs\n",
    "        self.client = chromadb.PersistentClient(path=\"./chroma_db\")\n",
    "        self.embedding_function = self._create_embedding_function(openai_api_key)\n",
    "\n",
    "    def _create_embedding_function(self, api_key: str):\n",
    "        if api_key.startswith(\"voc-\"):\n",
    "            return embedding_functions.OpenAIEmbeddingFunction(\n",
    "                api_key=api_key, api_base=\"https://openai.vocareum.com/v1\"\n",
    "            )\n",
    "        return embedding_functions.OpenAIEmbeddingFunction(api_key=api_key)\n",
    "\n",
    "    def create_store(self, name: str, force: bool = False) -> VectorStore:\n",
    "        if force:\n",
    "            try:\n",
    "                self.client.delete_collection(name=name)\n",
    "            except Exception:\n",
    "                pass  # ignore if collection didn't previously exist\n",
    "        collection = self.client.get_or_create_collection(\n",
    "            name=name, embedding_function=self.embedding_function\n",
    "        )\n",
    "        return VectorStore(collection)\n",
    "\n",
    "    def get_store(self, name: str) -> VectorStore | None:\n",
    "        try:\n",
    "            return VectorStore(self.client.get_collection(name=name))\n",
    "        except Exception:\n",
    "            return None\n",
    "\n",
    "# Initialize the Vector Store Manager\n",
    "vector_manager = VocareumVectorStoreManager(CHROMA_OPENAI_API_KEY)\n",
    "\n",
    "print(\"Vector Store Manager initialized successfully!\")\n",
    "print(\"Ready to create persistent vector store with OpenAI embeddings\")\n"
   ]
  },
  {
   "cell_type": "raw",
   "metadata": {
    "vscode": {
     "languageId": "raw"
    }
   },
   "source": [
    "## Step 4: Index Game Data in Vector Store\n",
    "\n",
    "Now we'll add all our game documents to the vector store. The documents will be automatically embedded using OpenAI's embedding model.\n"
   ]
  },
  {
   "cell_type": "code",
   "execution_count": 5,
   "metadata": {},
   "outputs": [
    {
     "name": "stderr",
     "output_type": "stream",
     "text": [
      "Failed to send telemetry event ClientCreateCollectionEvent: capture() takes 1 positional argument but 3 were given\n"
     ]
    },
    {
     "name": "stdout",
     "output_type": "stream",
     "text": [
      "Adding documents to vector store – this may take a moment…\n"
     ]
    },
    {
     "name": "stderr",
     "output_type": "stream",
     "text": [
      "Failed to send telemetry event CollectionAddEvent: capture() takes 1 positional argument but 3 were given\n",
      "Failed to send telemetry event CollectionGetEvent: capture() takes 1 positional argument but 3 were given\n"
     ]
    },
    {
     "name": "stdout",
     "output_type": "stream",
     "text": [
      "Successfully indexed 15 documents into 'udaplay_games'\n",
      "\n",
      "Verification - Retrieved 3 documents:\n",
      "- game_000_gran_turismo\n",
      "- game_001_grand_theft_auto_san_andreas\n",
      "- game_002_gran_turismo_5\n"
     ]
    }
   ],
   "source": [
    "# Index documents into ChromaDB\n",
    "def index_documents(corpus: Corpus, store_name: str = \"udaplay_games\") -> VectorStore:\n",
    "    vec_store = vector_manager.create_store(store_name, force=True)\n",
    "    print(\"Adding documents to vector store – this may take a moment…\")\n",
    "    vec_store.add(corpus)\n",
    "    print(f\"Successfully indexed {len(corpus)} documents into '{store_name}'\")\n",
    "    return vec_store\n",
    "\n",
    "# Create the vector store and index our documents\n",
    "vector_store = index_documents(game_corpus)\n",
    "\n",
    "# Verify the documents were added by retrieving a few\n",
    "test_retrieval = vector_store.get(limit=3)\n",
    "print(f\"\\nVerification - Retrieved {len(test_retrieval['ids'])} documents:\")\n",
    "for i, doc_id in enumerate(test_retrieval['ids']):\n",
    "    print(f\"- {doc_id}\")\n"
   ]
  },
  {
   "cell_type": "raw",
   "metadata": {
    "vscode": {
     "languageId": "raw"
    }
   },
   "source": [
    "## Step 5: Test Semantic Search\n",
    "\n",
    "Let's test our vector database with various queries to ensure it can retrieve relevant game information.\n"
   ]
  },
  {
   "cell_type": "raw",
   "metadata": {},
   "source": []
  },
  {
   "cell_type": "code",
   "execution_count": 6,
   "metadata": {},
   "outputs": [
    {
     "name": "stderr",
     "output_type": "stream",
     "text": [
      "Failed to send telemetry event CollectionQueryEvent: capture() takes 1 positional argument but 3 were given\n"
     ]
    },
    {
     "name": "stdout",
     "output_type": "stream",
     "text": [
      "======================================================================\n",
      "Query → Pokemon games from the 90s\n",
      "======================================================================\n",
      "[1] Pokémon Gold and Silver (1999, Game Boy Color) – sim=0.732\n",
      "    Genre: Role-playing | Publisher: Nintendo\n",
      "    Description: Second-generation Pokémon games introducing new regions, Pokémon, and gameplay mechanics.…\n",
      "\n",
      "[2] Pokémon Ruby and Sapphire (2002, Game Boy Advance) – sim=0.726\n",
      "    Genre: Role-playing | Publisher: Nintendo\n",
      "    Description: Third-generation Pokémon games set in the Hoenn region, featuring new Pokémon and double battles.…\n",
      "\n",
      "[3] Super Mario 64 (1996, Nintendo 64) – sim=0.612\n",
      "    Genre: Platformer | Publisher: Nintendo\n",
      "    Description: A groundbreaking 3D platformer that set new standards for the genre, featuring Mario's quest to rescue Princess Peach.…\n",
      "\n",
      "======================================================================\n",
      "Query → First 3D Mario platformer\n",
      "======================================================================\n",
      "[1] Super Mario 64 (1996, Nintendo 64) – sim=0.780\n",
      "    Genre: Platformer | Publisher: Nintendo\n",
      "    Description: A groundbreaking 3D platformer that set new standards for the genre, featuring Mario's quest to rescue Princess Peach.…\n",
      "\n",
      "[2] Super Mario World (1990, Super Nintendo Entertainment System (SNES)) – sim=0.741\n",
      "    Genre: Platformer | Publisher: Nintendo\n",
      "    Description: A classic platformer where Mario embarks on a quest to save Princess Toadstool and Dinosaur Land from Bowser.…\n",
      "\n",
      "[3] Mario Kart 8 Deluxe (2017, Nintendo Switch) – sim=0.665\n",
      "    Genre: Racing | Publisher: Nintendo\n",
      "    Description: An enhanced version of Mario Kart 8, featuring new characters, tracks, and improved gameplay mechanics.…\n",
      "\n",
      "======================================================================\n",
      "Query → Mortal Kombat fighting game\n",
      "======================================================================\n",
      "[1] Super Smash Bros. Melee (2001, GameCube) – sim=0.666\n",
      "    Genre: Fighting | Publisher: Nintendo\n",
      "    Description: A crossover fighting game featuring characters from various Nintendo franchises battling it out in dynamic arenas.…\n",
      "\n",
      "[2] Halo Infinite (2021, Xbox Series X|S) – sim=0.608\n",
      "    Genre: First-person shooter | Publisher: Xbox Game Studios\n",
      "    Description: The latest installment in the Halo franchise, featuring Master Chief's return in a new open-world setting.…\n",
      "\n",
      "[3] Kinect Adventures! (2010, Xbox 360) – sim=0.579\n",
      "    Genre: Party | Publisher: Microsoft Game Studios\n",
      "    Description: A collection of mini-games designed to showcase the capabilities of the Kinect motion sensor.…\n",
      "\n",
      "======================================================================\n",
      "Query → RPG games by Nintendo\n",
      "======================================================================\n",
      "[1] Pokémon Ruby and Sapphire (2002, Game Boy Advance) – sim=0.708\n",
      "    Genre: Role-playing | Publisher: Nintendo\n",
      "    Description: Third-generation Pokémon games set in the Hoenn region, featuring new Pokémon and double battles.…\n",
      "\n",
      "[2] Pokémon Gold and Silver (1999, Game Boy Color) – sim=0.692\n",
      "    Genre: Role-playing | Publisher: Nintendo\n",
      "    Description: Second-generation Pokémon games introducing new regions, Pokémon, and gameplay mechanics.…\n",
      "\n",
      "[3] Super Mario 64 (1996, Nintendo 64) – sim=0.684\n",
      "    Genre: Platformer | Publisher: Nintendo\n",
      "    Description: A groundbreaking 3D platformer that set new standards for the genre, featuring Mario's quest to rescue Princess Peach.…\n",
      "\n"
     ]
    },
    {
     "name": "stderr",
     "output_type": "stream",
     "text": [
      "Failed to send telemetry event CollectionGetEvent: capture() takes 1 positional argument but 3 were given\n"
     ]
    },
    {
     "name": "stdout",
     "output_type": "stream",
     "text": [
      "======================================================================\n",
      "Query → Games released in 1999\n",
      "======================================================================\n",
      "[1] Pokémon Gold and Silver (1999, Game Boy Color) – sim=0.652\n",
      "    Genre: Role-playing | Publisher: Nintendo\n",
      "    Description: Second-generation Pokémon games introducing new regions, Pokémon, and gameplay mechanics.…\n",
      "\n",
      "[2] Gran Turismo (1997, PlayStation 1) – sim=0.641\n",
      "    Genre: Racing | Publisher: Sony Computer Entertainment\n",
      "    Description: A realistic racing simulator featuring a wide array of cars and tracks, setting a new standard for the genre.…\n",
      "\n",
      "[3] Super Mario 64 (1996, Nintendo 64) – sim=0.634\n",
      "    Genre: Platformer | Publisher: Nintendo\n",
      "    Description: A groundbreaking 3D platformer that set new standards for the genre, featuring Mario's quest to rescue Princess Peach.…\n",
      "\n",
      "\n",
      "Nintendo-published titles (metadata filter):\n",
      "  1. Pokémon Gold and Silver (1999) – Game Boy Color\n",
      "  2. Pokémon Ruby and Sapphire (2002) – Game Boy Advance\n",
      "  3. Super Mario World (1990) – Super Nintendo Entertainment System (SNES)\n",
      "  4. Super Mario 64 (1996) – Nintendo 64\n",
      "  5. Super Smash Bros. Melee (2001) – GameCube\n",
      "\n",
      "Adventure games on Nintendo 64:\n",
      "  – Super Mario 64 (Platformer)\n",
      "\n",
      "All done – vector database ready for Part 2! ✔️\n"
     ]
    }
   ],
   "source": [
    "# Helper function to display search results  \n",
    "def display_search_results(query: str, results: Dict):\n",
    "    print(\"=\" * 70)\n",
    "    print(f\"Query → {query}\")\n",
    "    print(\"=\" * 70)\n",
    "    if results[\"documents\"] and results[\"documents\"][0]:\n",
    "        for i, (doc, distance, meta) in enumerate(\n",
    "            zip(results[\"documents\"][0], results[\"distances\"][0], results[\"metadatas\"][0])\n",
    "        ):\n",
    "            similarity = 1 - distance\n",
    "            print(\n",
    "                f\"[{i+1}] {meta['name']} ({meta['release_year']}, {meta['platform']}) – \"\n",
    "                f\"sim={similarity:.3f}\"\n",
    "            )\n",
    "            print(f\"    Genre: {meta['genre']} | Publisher: {meta['publisher']}\")\n",
    "            print(f\"    Description: {meta['description'][:120]}…\\n\")\n",
    "    else:\n",
    "        print(\"No results found.\\n\")\n",
    "\n",
    "# Run demo searches (semantic + metadata filtering)\n",
    "def run_demo_searches(store: VectorStore):\n",
    "    demo_queries = [\n",
    "        \"Pokemon games from the 90s\",\n",
    "        \"First 3D Mario platformer\", \n",
    "        \"Mortal Kombat fighting game\",\n",
    "        \"RPG games by Nintendo\",\n",
    "        \"Games released in 1999\",\n",
    "    ]\n",
    "    for q in demo_queries:\n",
    "        res = store.query(query_texts=[q], n_results=3)\n",
    "        display_search_results(q, res)\n",
    "\n",
    "    # Metadata-only example \n",
    "    nintendo = store.get(where={\"publisher\": \"Nintendo\"}, limit=5)\n",
    "    print(\"\\nNintendo-published titles (metadata filter):\")\n",
    "    for idx, meta in enumerate(nintendo[\"metadatas\"], start=1):\n",
    "        print(f\"  {idx}. {meta['name']} ({meta['release_year']}) – {meta['platform']}\")\n",
    "\n",
    "    # Mixed example\n",
    "    filtered = store.query(\n",
    "        query_texts=[\"adventure game\"], n_results=3, where={\"platform\": \"Nintendo 64\"}\n",
    "    )\n",
    "    print(\"\\nAdventure games on Nintendo 64:\")\n",
    "    for meta in filtered[\"metadatas\"][0]:\n",
    "        print(f\"  – {meta['name']} ({meta['genre']})\")\n",
    "\n",
    "# Run the demonstration\n",
    "run_demo_searches(vector_store)\n",
    "\n",
    "print(\"\\nAll done – vector database ready for Part 2! ✔️\")\n"
   ]
  },
  {
   "cell_type": "code",
   "execution_count": null,
   "metadata": {},
   "outputs": [],
   "source": []
  },
  {
   "cell_type": "code",
   "execution_count": null,
   "metadata": {},
   "outputs": [],
   "source": []
  }
 ],
 "metadata": {
  "language_info": {
   "name": "python"
  }
 },
 "nbformat": 4,
 "nbformat_minor": 2
}